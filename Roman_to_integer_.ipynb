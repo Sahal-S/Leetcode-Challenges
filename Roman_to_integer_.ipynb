{
  "nbformat": 4,
  "nbformat_minor": 0,
  "metadata": {
    "colab": {
      "name": "Roman to integer .ipynb",
      "provenance": []
    },
    "kernelspec": {
      "name": "python3",
      "display_name": "Python 3"
    },
    "language_info": {
      "name": "python"
    }
  },
  "cells": [
    {
      "cell_type": "code",
      "source": [
        "a={'I':1,'V':5,'X':10,'L':50,'C':100,'D':500,'M':1000}\n",
        "x=input(\"enter a roman number\")\n",
        "sum=0\n",
        "for i in range(len(x)-1,0,-1):\n",
        "    if a[x[i-1]]>=a[x[i]]:\n",
        "        c=x[i-1]\n",
        "        sum=sum+a[c]\n",
        "    else:\n",
        "        c=x[i-1]\n",
        "        sum=sum-a[c]\n",
        "sum=sum + a[x[len(x)-1]]\n",
        "print(sum)"
      ],
      "metadata": {
        "id": "AerHCIS2igCG",
        "colab": {
          "base_uri": "https://localhost:8080/"
        },
        "outputId": "b8b0a148-2f79-4f46-f3a6-27847b0571df"
      },
      "execution_count": 8,
      "outputs": [
        {
          "output_type": "stream",
          "name": "stdout",
          "text": [
            "enter a roman numberVIII\n",
            "8\n"
          ]
        }
      ]
    },
    {
      "cell_type": "code",
      "source": [
        ""
      ],
      "metadata": {
        "id": "KJNnNQoaiCf3"
      },
      "execution_count": null,
      "outputs": []
    }
  ]
}